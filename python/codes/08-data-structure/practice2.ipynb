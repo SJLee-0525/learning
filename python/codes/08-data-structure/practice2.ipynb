{
 "cells": [
  {
   "cell_type": "markdown",
   "metadata": {},
   "source": [
    "# Practice 2"
   ]
  },
  {
   "cell_type": "markdown",
   "metadata": {},
   "source": [
    "## 1. 모든 위치\n",
    "\n",
    "> 주어진 문자열(text)에서 제시된 알파벳(alphabet)의 등장 위치를 리스트로 반환하시오.\n",
    "> 해당 알파벳이 등장하지 않으면, -1을 반환하시오.\n"
   ]
  },
  {
   "cell_type": "code",
   "execution_count": 7,
   "metadata": {},
   "outputs": [],
   "source": [
    "def my_find(text, alphabet):\n",
    "    result = []\n",
    "    for i in range(len(text)):\n",
    "        if text[i] == alphabet:\n",
    "            result.append(i)\n",
    "    \n",
    "    if len(result) == 0:\n",
    "        return -1\n",
    "    else:\n",
    "        return result"
   ]
  },
  {
   "cell_type": "code",
   "execution_count": 8,
   "metadata": {},
   "outputs": [
    {
     "name": "stdout",
     "output_type": "stream",
     "text": [
      "[1, 2]\n",
      "-1\n"
     ]
    }
   ],
   "source": [
    "print(my_find('apple', 'p'))  # [1, 2]\n",
    "print(my_find('a', 'p'))  # -1"
   ]
  },
  {
   "cell_type": "markdown",
   "metadata": {},
   "source": [
    "## 2. 출석 체크\n",
    "\n",
    "> 주어진 학생 n과 출석한 학생명부 students 문자열이 있다. 결석한 학생들로 구성된 문자열을 반환하시오.\n",
    ">\n",
    "> n이 7일 때, 1 2 3 4 5 6 7의 출석 번호가 부여되고,\n",
    ">\n",
    "> '1 3 5'는 출석한 학생 명부이다. \n",
    ">\n",
    "> 즉, 결석한 학생 명부 '2 4 6 7'을 return 해야 한다.\n"
   ]
  },
  {
   "cell_type": "code",
   "execution_count": 50,
   "metadata": {},
   "outputs": [],
   "source": [
    "def check(n, students):\n",
    "    absent_student_list = list(map(int, students.split()))\n",
    "    attend_student_list = []\n",
    "    for student in range(1, n + 1):\n",
    "        if student not in absent_student_list:\n",
    "            attend_student_list.append(str(student))\n",
    "    result = ' '.join(attend_student_list)\n",
    "\n",
    "    return result"
   ]
  },
  {
   "cell_type": "code",
   "execution_count": 51,
   "metadata": {
    "ExecuteTime": {
     "end_time": "2020-07-22T07:58:30.841852Z",
     "start_time": "2020-07-22T07:58:30.838924Z"
    }
   },
   "outputs": [
    {
     "name": "stdout",
     "output_type": "stream",
     "text": [
      "2 4 6 7\n"
     ]
    }
   ],
   "source": [
    "print(check(7, '1 3 5')) # 2 4 6 7"
   ]
  },
  {
   "cell_type": "markdown",
   "metadata": {},
   "source": [
    "## 3. 중복되지 않은 숫자의 합\n",
    "\n",
    "> 같은 숫자가 한개 있거나 두개가 들어있는 리스트가 주어진다. 이러한 리스트에서 숫자가 한개만 있는 요소들의 합을 구하는 함수 `sum_of_repeat_number()`를 작성하시오.\n",
    ">\n",
    "> 예를 들어, `[4, 4, 7, 8, 10, 4]`는 7과 8, 10이 한번만 나오기 때문에 두개를 더한 25가 결과값으로 도출된다.\n"
   ]
  },
  {
   "cell_type": "code",
   "execution_count": 9,
   "metadata": {},
   "outputs": [],
   "source": [
    "def sum_of_repeat_number(numbers):\n",
    "    target_numbers = list(set(numbers))\n",
    "    result = 0\n",
    "    for target in target_numbers:\n",
    "        count = 0\n",
    "        for number in numbers:\n",
    "            if number == target:\n",
    "                count += 1\n",
    "            if count >= 2:\n",
    "                break\n",
    "        if count == 1:\n",
    "            result += target\n",
    "    \n",
    "    return result"
   ]
  },
  {
   "cell_type": "code",
   "execution_count": 10,
   "metadata": {},
   "outputs": [
    {
     "name": "stdout",
     "output_type": "stream",
     "text": [
      "25\n"
     ]
    }
   ],
   "source": [
    "print(sum_of_repeat_number([4, 4, 7, 8, 10, 4]))  # 25"
   ]
  },
  {
   "cell_type": "markdown",
   "metadata": {},
   "source": [
    "## 4. 문자열 탐색\n",
    "\n",
    "> 문자열 요소로만 이루어진 리스트를 넣었을 때, 문자열 길이가 2 이상이고 주어진 문자열의 첫번째와 마지막 문자가 같은 문자열의 수를 카운트하는 함수 `start_end()`를 작성하시오."
   ]
  },
  {
   "cell_type": "code",
   "execution_count": 54,
   "metadata": {},
   "outputs": [],
   "source": [
    "def start_end(words):\n",
    "    count = 0\n",
    "    for word in words:\n",
    "        if word[0] == word[-1] and len(word) >= 2:\n",
    "            count += 1\n",
    "    \n",
    "    return count"
   ]
  },
  {
   "cell_type": "code",
   "execution_count": 55,
   "metadata": {},
   "outputs": [
    {
     "name": "stdout",
     "output_type": "stream",
     "text": [
      "3\n"
     ]
    }
   ],
   "source": [
    "print(start_end(['level', 'asdwe', 's', 'abceda', 'gsdwrtfg']))  # 3"
   ]
  },
  {
   "cell_type": "markdown",
   "metadata": {},
   "source": [
    "## 5. Collatz 추측\n",
    "\n",
    "> 1937년 Collatz란 사람에 의해 제기된 이 추측은, 주어진 수가 1이 될때까지 다음 작업을 반복하면, 모든 수를 1로 만들 수 있다는 추측이다. 그 원리는 아래와 같다.\n",
    ">\n",
    "> 1. 입력된 수가 짝수라면 2로 나눈다. \n",
    "> 2. 입력된 수가 홀수라면 3을 곱하고 1을 더한다.\n",
    "> 3. 결과로 나온 수에 같은 작업을 1이 될 때까지 반복한다.\n",
    ">\n",
    ">  예를 들어, 입력된 수가 6이라면 6 → 3 → 10 → 5 → 16 → 8 → 4 → 2 → 1 이 되어 총 8번 만에 1이 된다.\n",
    ">\n",
    "> 위 작업을 몇 번이나 반복해야하는지 반환하는 함수 `collatz()`를 작성하시오 (단, 작업을 500번을 반복해도 1이 되지 않는다면 –1을 반환하시오.)"
   ]
  },
  {
   "cell_type": "code",
   "execution_count": 60,
   "metadata": {},
   "outputs": [],
   "source": [
    "def collatz(num):\n",
    "    count = 0\n",
    "    while num > 1:\n",
    "        if num % 2 == 0:\n",
    "            num //= 2\n",
    "            count += 1\n",
    "        else:\n",
    "            num = (num * 3) + 1\n",
    "            count += 1\n",
    "    if count >= 500:\n",
    "        return -1\n",
    "    else:\n",
    "        return count"
   ]
  },
  {
   "cell_type": "code",
   "execution_count": 61,
   "metadata": {},
   "outputs": [
    {
     "name": "stdout",
     "output_type": "stream",
     "text": [
      "8\n",
      "4\n",
      "111\n",
      "-1\n"
     ]
    }
   ],
   "source": [
    "print(collatz(6))  # 8\n",
    "print(collatz(16))  # 4\n",
    "print(collatz(27))  # 111\n",
    "print(collatz(626331))  # -1"
   ]
  }
 ],
 "metadata": {
  "kernelspec": {
   "display_name": "Python 3",
   "language": "python",
   "name": "python3"
  },
  "language_info": {
   "codemirror_mode": {
    "name": "ipython",
    "version": 3
   },
   "file_extension": ".py",
   "mimetype": "text/x-python",
   "name": "python",
   "nbconvert_exporter": "python",
   "pygments_lexer": "ipython3",
   "version": "3.9.13"
  },
  "toc": {
   "base_numbering": 1,
   "nav_menu": {},
   "number_sections": true,
   "sideBar": true,
   "skip_h1_title": false,
   "title_cell": "Table of Contents",
   "title_sidebar": "Contents",
   "toc_cell": false,
   "toc_position": {},
   "toc_section_display": true,
   "toc_window_display": false
  }
 },
 "nbformat": 4,
 "nbformat_minor": 4
}
